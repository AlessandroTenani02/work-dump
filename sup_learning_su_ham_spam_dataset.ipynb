{
  "nbformat": 4,
  "nbformat_minor": 0,
  "metadata": {
    "colab": {
      "provenance": [],
      "authorship_tag": "ABX9TyPSwjTAsXWMEglLl09M0inq",
      "include_colab_link": true
    },
    "kernelspec": {
      "name": "python3",
      "display_name": "Python 3"
    },
    "language_info": {
      "name": "python"
    }
  },
  "cells": [
    {
      "cell_type": "markdown",
      "metadata": {
        "id": "view-in-github",
        "colab_type": "text"
      },
      "source": [
        "<a href=\"https://colab.research.google.com/github/AlessandroTenani02/work-dump/blob/main/sup_learning_su_ham_spam_dataset.ipynb\" target=\"_parent\"><img src=\"https://colab.research.google.com/assets/colab-badge.svg\" alt=\"Open In Colab\"/></a>"
      ]
    },
    {
      "cell_type": "markdown",
      "source": [
        "# Modelli di supervisioned learning"
      ],
      "metadata": {
        "id": "6ZHxeQPqVHX_"
      }
    },
    {
      "cell_type": "markdown",
      "source": [
        "Si mostrano qui le prestazioni di alcuni dei principali modelli di apprendimento supervisionato. <br>Si utilizzano le implementazioni di sklearn.\n",
        "<br>Il dataset utilizzato è lo [spam detection dataset]('https://raw.githubusercontent.com/niccosala-st/Text-Processing/main/spam_text_messages.csv')"
      ],
      "metadata": {
        "id": "jDq3SdQPm3YO"
      }
    },
    {
      "cell_type": "markdown",
      "source": [
        "## Operazioni preliminari, pulizia del dataset e definizione dei modelli di encoding"
      ],
      "metadata": {
        "id": "YuYSA6bXS1xY"
      }
    },
    {
      "cell_type": "markdown",
      "source": [
        "Import del dataset e pulizia dei dati. <br> Al dataset vengono aggiunte le colonne 'Cleaned' e 'Labels'.\n",
        "\n"
      ],
      "metadata": {
        "id": "JPdeuQPgVQsG"
      }
    },
    {
      "cell_type": "code",
      "execution_count": 2,
      "metadata": {
        "colab": {
          "base_uri": "https://localhost:8080/"
        },
        "id": "Rjp9VgfIU__I",
        "outputId": "147320c2-760e-4161-d492-2e1fd9d01f4c"
      },
      "outputs": [
        {
          "output_type": "stream",
          "name": "stdout",
          "text": [
            "Collecting cleantext\n",
            "  Downloading cleantext-1.1.4-py3-none-any.whl (4.9 kB)\n",
            "Requirement already satisfied: nltk in /usr/local/lib/python3.10/dist-packages (from cleantext) (3.8.1)\n",
            "Requirement already satisfied: click in /usr/local/lib/python3.10/dist-packages (from nltk->cleantext) (8.1.7)\n",
            "Requirement already satisfied: joblib in /usr/local/lib/python3.10/dist-packages (from nltk->cleantext) (1.3.2)\n",
            "Requirement already satisfied: regex>=2021.8.3 in /usr/local/lib/python3.10/dist-packages (from nltk->cleantext) (2023.12.25)\n",
            "Requirement already satisfied: tqdm in /usr/local/lib/python3.10/dist-packages (from nltk->cleantext) (4.66.2)\n",
            "Installing collected packages: cleantext\n",
            "Successfully installed cleantext-1.1.4\n"
          ]
        }
      ],
      "source": [
        "!pip install cleantext\n",
        "import math\n",
        "import numpy as np\n",
        "import cleantext\n",
        "import torch\n",
        "import torch.nn as nn\n",
        "import torchtext\n",
        "import re\n",
        "import pandas as pd\n",
        "from sklearn.model_selection import train_test_split\n",
        "from torch.utils.data import DataLoader\n",
        "from tqdm import tqdm\n",
        "from torchtext.data.utils import get_tokenizer\n",
        "from torchtext.vocab import build_vocab_from_iterator\n",
        "from sklearn.metrics import accuracy_score, precision_score, recall_score, f1_score, cluster\n",
        "\n",
        "device = torch.device(\"cuda\" if torch.cuda.is_available() else \"cpu\")\n",
        "\n",
        "url = 'https://raw.githubusercontent.com/niccosala-st/Text-Processing/main/spam_text_messages.csv'\n",
        "df = pd.read_csv(url)"
      ]
    },
    {
      "cell_type": "code",
      "source": [
        "def clean_text(text_list):\n",
        "    messages = []\n",
        "\n",
        "    for message in text_list:\n",
        "        corpus = cleantext.clean_words(message,\n",
        "                              clean_all= False,    # Execute all cleaning operations\n",
        "                              extra_spaces=True,   # Remove extra white spaces\n",
        "                              stemming=True,       # Stem the words\n",
        "                              stopwords=True,      # Remove stop words\n",
        "                              lowercase=True,      # Convert to lowercase\n",
        "                              numbers=False,       # Remove all digits\n",
        "                              punct=True,          # Remove all punctuations\n",
        "                              stp_lang='english'   # Language\n",
        "        )\n",
        "        cleaned_message = ' '.join(corpus)\n",
        "        cleaned_message = re.sub(\"([\\w\\.\\-\\_]+@[\\w\\.\\-\\_]+)\", \"<EMAIL>\", cleaned_message)\n",
        "        cleaned_message = re.sub(\"(\\d+)\", \"<NUMBER>\", cleaned_message)\n",
        "        cleaned_message = re.sub(\"(http\\S+)\", \"<URL>\", cleaned_message)\n",
        "        cleaned_message = re.sub(\"(\\s){2,}\", \"\", cleaned_message)\n",
        "\n",
        "        messages.append(cleaned_message)\n",
        "\n",
        "\n",
        "    return messages"
      ],
      "metadata": {
        "id": "DlphcJGWW_GV"
      },
      "execution_count": 3,
      "outputs": []
    },
    {
      "cell_type": "code",
      "source": [
        "df['Cleaned'] = clean_text(df['Message'])\n",
        "df.head(20)"
      ],
      "metadata": {
        "colab": {
          "base_uri": "https://localhost:8080/",
          "height": 712
        },
        "id": "FuP2VLw8XER1",
        "outputId": "290de311-1e17-4251-8212-815d673bb613"
      },
      "execution_count": 4,
      "outputs": [
        {
          "output_type": "stream",
          "name": "stderr",
          "text": [
            "[nltk_data] Downloading package stopwords to /root/nltk_data...\n",
            "[nltk_data]   Unzipping corpora/stopwords.zip.\n"
          ]
        },
        {
          "output_type": "execute_result",
          "data": {
            "text/plain": [
              "   Category                                            Message  \\\n",
              "0       ham  Go until jurong point, crazy.. Available only ...   \n",
              "1       ham                      Ok lar... Joking wif u oni...   \n",
              "2      spam  Free entry in 2 a wkly comp to win FA Cup fina...   \n",
              "3       ham  U dun say so early hor... U c already then say...   \n",
              "4       ham  Nah I don't think he goes to usf, he lives aro...   \n",
              "5      spam  FreeMsg Hey there darling it's been 3 week's n...   \n",
              "6       ham  Even my brother is not like to speak with me. ...   \n",
              "7       ham  As per your request 'Melle Melle (Oru Minnamin...   \n",
              "8      spam  WINNER!! As a valued network customer you have...   \n",
              "9      spam  Had your mobile 11 months or more? U R entitle...   \n",
              "10      ham  I'm gonna be home soon and i don't want to tal...   \n",
              "11     spam  SIX chances to win CASH! From 100 to 20,000 po...   \n",
              "12     spam  URGENT! You have won a 1 week FREE membership ...   \n",
              "13      ham  I've been searching for the right words to tha...   \n",
              "14      ham                I HAVE A DATE ON SUNDAY WITH WILL!!   \n",
              "15     spam  XXXMobileMovieClub: To use your credit, click ...   \n",
              "16      ham                         Oh k...i'm watching here:)   \n",
              "17      ham  Eh u remember how 2 spell his name... Yes i di...   \n",
              "18      ham  Fine if thats the way u feel. Thats the way ...   \n",
              "19     spam  England v Macedonia - dont miss the goals/team...   \n",
              "\n",
              "                                              Cleaned  \n",
              "0   go jurong point crazi avail bugi n great world...  \n",
              "1                               ok lar joke wif u oni  \n",
              "2   free entri <NUMBER> wkli comp win fa cup final...  \n",
              "3                 u dun say earli hor u c alreadi say  \n",
              "4           nah dont think goe usf live around though  \n",
              "5   freemsg hey darl <NUMBER> week word back id li...  \n",
              "6       even brother like speak treat like aid patent  \n",
              "7   per request mell mell oru minnaminungint nurun...  \n",
              "8   winner valu network custom select receivea £<N...  \n",
              "9   mobil <NUMBER> month u r entitl updat latest c...  \n",
              "10  im gonna home soon dont want talk stuff anymor...  \n",
              "11  six chanc win cash <NUMBER> <NUMBER> pound txt...  \n",
              "12  urgent <NUMBER> week free membership £<NUMBER>...  \n",
              "13  ive search right word thank breather promis wo...  \n",
              "14                                        date sunday  \n",
              "15  xxxmobilemovieclub use credit click wap link n...  \n",
              "16                                       oh kim watch  \n",
              "17  eh u rememb <NUMBER> spell name ye v naughti m...  \n",
              "18             fine that way u feel that way gota b  \n",
              "19  england v macedonia dont miss goalsteam news t...  "
            ],
            "text/html": [
              "\n",
              "  <div id=\"df-085506be-7e1d-4c4c-833a-62dcbf76c259\" class=\"colab-df-container\">\n",
              "    <div>\n",
              "<style scoped>\n",
              "    .dataframe tbody tr th:only-of-type {\n",
              "        vertical-align: middle;\n",
              "    }\n",
              "\n",
              "    .dataframe tbody tr th {\n",
              "        vertical-align: top;\n",
              "    }\n",
              "\n",
              "    .dataframe thead th {\n",
              "        text-align: right;\n",
              "    }\n",
              "</style>\n",
              "<table border=\"1\" class=\"dataframe\">\n",
              "  <thead>\n",
              "    <tr style=\"text-align: right;\">\n",
              "      <th></th>\n",
              "      <th>Category</th>\n",
              "      <th>Message</th>\n",
              "      <th>Cleaned</th>\n",
              "    </tr>\n",
              "  </thead>\n",
              "  <tbody>\n",
              "    <tr>\n",
              "      <th>0</th>\n",
              "      <td>ham</td>\n",
              "      <td>Go until jurong point, crazy.. Available only ...</td>\n",
              "      <td>go jurong point crazi avail bugi n great world...</td>\n",
              "    </tr>\n",
              "    <tr>\n",
              "      <th>1</th>\n",
              "      <td>ham</td>\n",
              "      <td>Ok lar... Joking wif u oni...</td>\n",
              "      <td>ok lar joke wif u oni</td>\n",
              "    </tr>\n",
              "    <tr>\n",
              "      <th>2</th>\n",
              "      <td>spam</td>\n",
              "      <td>Free entry in 2 a wkly comp to win FA Cup fina...</td>\n",
              "      <td>free entri &lt;NUMBER&gt; wkli comp win fa cup final...</td>\n",
              "    </tr>\n",
              "    <tr>\n",
              "      <th>3</th>\n",
              "      <td>ham</td>\n",
              "      <td>U dun say so early hor... U c already then say...</td>\n",
              "      <td>u dun say earli hor u c alreadi say</td>\n",
              "    </tr>\n",
              "    <tr>\n",
              "      <th>4</th>\n",
              "      <td>ham</td>\n",
              "      <td>Nah I don't think he goes to usf, he lives aro...</td>\n",
              "      <td>nah dont think goe usf live around though</td>\n",
              "    </tr>\n",
              "    <tr>\n",
              "      <th>5</th>\n",
              "      <td>spam</td>\n",
              "      <td>FreeMsg Hey there darling it's been 3 week's n...</td>\n",
              "      <td>freemsg hey darl &lt;NUMBER&gt; week word back id li...</td>\n",
              "    </tr>\n",
              "    <tr>\n",
              "      <th>6</th>\n",
              "      <td>ham</td>\n",
              "      <td>Even my brother is not like to speak with me. ...</td>\n",
              "      <td>even brother like speak treat like aid patent</td>\n",
              "    </tr>\n",
              "    <tr>\n",
              "      <th>7</th>\n",
              "      <td>ham</td>\n",
              "      <td>As per your request 'Melle Melle (Oru Minnamin...</td>\n",
              "      <td>per request mell mell oru minnaminungint nurun...</td>\n",
              "    </tr>\n",
              "    <tr>\n",
              "      <th>8</th>\n",
              "      <td>spam</td>\n",
              "      <td>WINNER!! As a valued network customer you have...</td>\n",
              "      <td>winner valu network custom select receivea £&lt;N...</td>\n",
              "    </tr>\n",
              "    <tr>\n",
              "      <th>9</th>\n",
              "      <td>spam</td>\n",
              "      <td>Had your mobile 11 months or more? U R entitle...</td>\n",
              "      <td>mobil &lt;NUMBER&gt; month u r entitl updat latest c...</td>\n",
              "    </tr>\n",
              "    <tr>\n",
              "      <th>10</th>\n",
              "      <td>ham</td>\n",
              "      <td>I'm gonna be home soon and i don't want to tal...</td>\n",
              "      <td>im gonna home soon dont want talk stuff anymor...</td>\n",
              "    </tr>\n",
              "    <tr>\n",
              "      <th>11</th>\n",
              "      <td>spam</td>\n",
              "      <td>SIX chances to win CASH! From 100 to 20,000 po...</td>\n",
              "      <td>six chanc win cash &lt;NUMBER&gt; &lt;NUMBER&gt; pound txt...</td>\n",
              "    </tr>\n",
              "    <tr>\n",
              "      <th>12</th>\n",
              "      <td>spam</td>\n",
              "      <td>URGENT! You have won a 1 week FREE membership ...</td>\n",
              "      <td>urgent &lt;NUMBER&gt; week free membership £&lt;NUMBER&gt;...</td>\n",
              "    </tr>\n",
              "    <tr>\n",
              "      <th>13</th>\n",
              "      <td>ham</td>\n",
              "      <td>I've been searching for the right words to tha...</td>\n",
              "      <td>ive search right word thank breather promis wo...</td>\n",
              "    </tr>\n",
              "    <tr>\n",
              "      <th>14</th>\n",
              "      <td>ham</td>\n",
              "      <td>I HAVE A DATE ON SUNDAY WITH WILL!!</td>\n",
              "      <td>date sunday</td>\n",
              "    </tr>\n",
              "    <tr>\n",
              "      <th>15</th>\n",
              "      <td>spam</td>\n",
              "      <td>XXXMobileMovieClub: To use your credit, click ...</td>\n",
              "      <td>xxxmobilemovieclub use credit click wap link n...</td>\n",
              "    </tr>\n",
              "    <tr>\n",
              "      <th>16</th>\n",
              "      <td>ham</td>\n",
              "      <td>Oh k...i'm watching here:)</td>\n",
              "      <td>oh kim watch</td>\n",
              "    </tr>\n",
              "    <tr>\n",
              "      <th>17</th>\n",
              "      <td>ham</td>\n",
              "      <td>Eh u remember how 2 spell his name... Yes i di...</td>\n",
              "      <td>eh u rememb &lt;NUMBER&gt; spell name ye v naughti m...</td>\n",
              "    </tr>\n",
              "    <tr>\n",
              "      <th>18</th>\n",
              "      <td>ham</td>\n",
              "      <td>Fine if thats the way u feel. Thats the way ...</td>\n",
              "      <td>fine that way u feel that way gota b</td>\n",
              "    </tr>\n",
              "    <tr>\n",
              "      <th>19</th>\n",
              "      <td>spam</td>\n",
              "      <td>England v Macedonia - dont miss the goals/team...</td>\n",
              "      <td>england v macedonia dont miss goalsteam news t...</td>\n",
              "    </tr>\n",
              "  </tbody>\n",
              "</table>\n",
              "</div>\n",
              "    <div class=\"colab-df-buttons\">\n",
              "\n",
              "  <div class=\"colab-df-container\">\n",
              "    <button class=\"colab-df-convert\" onclick=\"convertToInteractive('df-085506be-7e1d-4c4c-833a-62dcbf76c259')\"\n",
              "            title=\"Convert this dataframe to an interactive table.\"\n",
              "            style=\"display:none;\">\n",
              "\n",
              "  <svg xmlns=\"http://www.w3.org/2000/svg\" height=\"24px\" viewBox=\"0 -960 960 960\">\n",
              "    <path d=\"M120-120v-720h720v720H120Zm60-500h600v-160H180v160Zm220 220h160v-160H400v160Zm0 220h160v-160H400v160ZM180-400h160v-160H180v160Zm440 0h160v-160H620v160ZM180-180h160v-160H180v160Zm440 0h160v-160H620v160Z\"/>\n",
              "  </svg>\n",
              "    </button>\n",
              "\n",
              "  <style>\n",
              "    .colab-df-container {\n",
              "      display:flex;\n",
              "      gap: 12px;\n",
              "    }\n",
              "\n",
              "    .colab-df-convert {\n",
              "      background-color: #E8F0FE;\n",
              "      border: none;\n",
              "      border-radius: 50%;\n",
              "      cursor: pointer;\n",
              "      display: none;\n",
              "      fill: #1967D2;\n",
              "      height: 32px;\n",
              "      padding: 0 0 0 0;\n",
              "      width: 32px;\n",
              "    }\n",
              "\n",
              "    .colab-df-convert:hover {\n",
              "      background-color: #E2EBFA;\n",
              "      box-shadow: 0px 1px 2px rgba(60, 64, 67, 0.3), 0px 1px 3px 1px rgba(60, 64, 67, 0.15);\n",
              "      fill: #174EA6;\n",
              "    }\n",
              "\n",
              "    .colab-df-buttons div {\n",
              "      margin-bottom: 4px;\n",
              "    }\n",
              "\n",
              "    [theme=dark] .colab-df-convert {\n",
              "      background-color: #3B4455;\n",
              "      fill: #D2E3FC;\n",
              "    }\n",
              "\n",
              "    [theme=dark] .colab-df-convert:hover {\n",
              "      background-color: #434B5C;\n",
              "      box-shadow: 0px 1px 3px 1px rgba(0, 0, 0, 0.15);\n",
              "      filter: drop-shadow(0px 1px 2px rgba(0, 0, 0, 0.3));\n",
              "      fill: #FFFFFF;\n",
              "    }\n",
              "  </style>\n",
              "\n",
              "    <script>\n",
              "      const buttonEl =\n",
              "        document.querySelector('#df-085506be-7e1d-4c4c-833a-62dcbf76c259 button.colab-df-convert');\n",
              "      buttonEl.style.display =\n",
              "        google.colab.kernel.accessAllowed ? 'block' : 'none';\n",
              "\n",
              "      async function convertToInteractive(key) {\n",
              "        const element = document.querySelector('#df-085506be-7e1d-4c4c-833a-62dcbf76c259');\n",
              "        const dataTable =\n",
              "          await google.colab.kernel.invokeFunction('convertToInteractive',\n",
              "                                                    [key], {});\n",
              "        if (!dataTable) return;\n",
              "\n",
              "        const docLinkHtml = 'Like what you see? Visit the ' +\n",
              "          '<a target=\"_blank\" href=https://colab.research.google.com/notebooks/data_table.ipynb>data table notebook</a>'\n",
              "          + ' to learn more about interactive tables.';\n",
              "        element.innerHTML = '';\n",
              "        dataTable['output_type'] = 'display_data';\n",
              "        await google.colab.output.renderOutput(dataTable, element);\n",
              "        const docLink = document.createElement('div');\n",
              "        docLink.innerHTML = docLinkHtml;\n",
              "        element.appendChild(docLink);\n",
              "      }\n",
              "    </script>\n",
              "  </div>\n",
              "\n",
              "\n",
              "<div id=\"df-c730ce4e-76b7-4786-8a96-709e14310c9f\">\n",
              "  <button class=\"colab-df-quickchart\" onclick=\"quickchart('df-c730ce4e-76b7-4786-8a96-709e14310c9f')\"\n",
              "            title=\"Suggest charts\"\n",
              "            style=\"display:none;\">\n",
              "\n",
              "<svg xmlns=\"http://www.w3.org/2000/svg\" height=\"24px\"viewBox=\"0 0 24 24\"\n",
              "     width=\"24px\">\n",
              "    <g>\n",
              "        <path d=\"M19 3H5c-1.1 0-2 .9-2 2v14c0 1.1.9 2 2 2h14c1.1 0 2-.9 2-2V5c0-1.1-.9-2-2-2zM9 17H7v-7h2v7zm4 0h-2V7h2v10zm4 0h-2v-4h2v4z\"/>\n",
              "    </g>\n",
              "</svg>\n",
              "  </button>\n",
              "\n",
              "<style>\n",
              "  .colab-df-quickchart {\n",
              "      --bg-color: #E8F0FE;\n",
              "      --fill-color: #1967D2;\n",
              "      --hover-bg-color: #E2EBFA;\n",
              "      --hover-fill-color: #174EA6;\n",
              "      --disabled-fill-color: #AAA;\n",
              "      --disabled-bg-color: #DDD;\n",
              "  }\n",
              "\n",
              "  [theme=dark] .colab-df-quickchart {\n",
              "      --bg-color: #3B4455;\n",
              "      --fill-color: #D2E3FC;\n",
              "      --hover-bg-color: #434B5C;\n",
              "      --hover-fill-color: #FFFFFF;\n",
              "      --disabled-bg-color: #3B4455;\n",
              "      --disabled-fill-color: #666;\n",
              "  }\n",
              "\n",
              "  .colab-df-quickchart {\n",
              "    background-color: var(--bg-color);\n",
              "    border: none;\n",
              "    border-radius: 50%;\n",
              "    cursor: pointer;\n",
              "    display: none;\n",
              "    fill: var(--fill-color);\n",
              "    height: 32px;\n",
              "    padding: 0;\n",
              "    width: 32px;\n",
              "  }\n",
              "\n",
              "  .colab-df-quickchart:hover {\n",
              "    background-color: var(--hover-bg-color);\n",
              "    box-shadow: 0 1px 2px rgba(60, 64, 67, 0.3), 0 1px 3px 1px rgba(60, 64, 67, 0.15);\n",
              "    fill: var(--button-hover-fill-color);\n",
              "  }\n",
              "\n",
              "  .colab-df-quickchart-complete:disabled,\n",
              "  .colab-df-quickchart-complete:disabled:hover {\n",
              "    background-color: var(--disabled-bg-color);\n",
              "    fill: var(--disabled-fill-color);\n",
              "    box-shadow: none;\n",
              "  }\n",
              "\n",
              "  .colab-df-spinner {\n",
              "    border: 2px solid var(--fill-color);\n",
              "    border-color: transparent;\n",
              "    border-bottom-color: var(--fill-color);\n",
              "    animation:\n",
              "      spin 1s steps(1) infinite;\n",
              "  }\n",
              "\n",
              "  @keyframes spin {\n",
              "    0% {\n",
              "      border-color: transparent;\n",
              "      border-bottom-color: var(--fill-color);\n",
              "      border-left-color: var(--fill-color);\n",
              "    }\n",
              "    20% {\n",
              "      border-color: transparent;\n",
              "      border-left-color: var(--fill-color);\n",
              "      border-top-color: var(--fill-color);\n",
              "    }\n",
              "    30% {\n",
              "      border-color: transparent;\n",
              "      border-left-color: var(--fill-color);\n",
              "      border-top-color: var(--fill-color);\n",
              "      border-right-color: var(--fill-color);\n",
              "    }\n",
              "    40% {\n",
              "      border-color: transparent;\n",
              "      border-right-color: var(--fill-color);\n",
              "      border-top-color: var(--fill-color);\n",
              "    }\n",
              "    60% {\n",
              "      border-color: transparent;\n",
              "      border-right-color: var(--fill-color);\n",
              "    }\n",
              "    80% {\n",
              "      border-color: transparent;\n",
              "      border-right-color: var(--fill-color);\n",
              "      border-bottom-color: var(--fill-color);\n",
              "    }\n",
              "    90% {\n",
              "      border-color: transparent;\n",
              "      border-bottom-color: var(--fill-color);\n",
              "    }\n",
              "  }\n",
              "</style>\n",
              "\n",
              "  <script>\n",
              "    async function quickchart(key) {\n",
              "      const quickchartButtonEl =\n",
              "        document.querySelector('#' + key + ' button');\n",
              "      quickchartButtonEl.disabled = true;  // To prevent multiple clicks.\n",
              "      quickchartButtonEl.classList.add('colab-df-spinner');\n",
              "      try {\n",
              "        const charts = await google.colab.kernel.invokeFunction(\n",
              "            'suggestCharts', [key], {});\n",
              "      } catch (error) {\n",
              "        console.error('Error during call to suggestCharts:', error);\n",
              "      }\n",
              "      quickchartButtonEl.classList.remove('colab-df-spinner');\n",
              "      quickchartButtonEl.classList.add('colab-df-quickchart-complete');\n",
              "    }\n",
              "    (() => {\n",
              "      let quickchartButtonEl =\n",
              "        document.querySelector('#df-c730ce4e-76b7-4786-8a96-709e14310c9f button');\n",
              "      quickchartButtonEl.style.display =\n",
              "        google.colab.kernel.accessAllowed ? 'block' : 'none';\n",
              "    })();\n",
              "  </script>\n",
              "</div>\n",
              "    </div>\n",
              "  </div>\n"
            ],
            "application/vnd.google.colaboratory.intrinsic+json": {
              "type": "dataframe",
              "variable_name": "df",
              "summary": "{\n  \"name\": \"df\",\n  \"rows\": 5572,\n  \"fields\": [\n    {\n      \"column\": \"Category\",\n      \"properties\": {\n        \"dtype\": \"category\",\n        \"num_unique_values\": 2,\n        \"samples\": [\n          \"spam\",\n          \"ham\"\n        ],\n        \"semantic_type\": \"\",\n        \"description\": \"\"\n      }\n    },\n    {\n      \"column\": \"Message\",\n      \"properties\": {\n        \"dtype\": \"string\",\n        \"num_unique_values\": 5157,\n        \"samples\": [\n          \"Also sir, i sent you an email about how to log into the usc payment portal. I.ll send you another message that should explain how things are back home. Have a great weekend.\",\n          \"Are you free now?can i call now?\"\n        ],\n        \"semantic_type\": \"\",\n        \"description\": \"\"\n      }\n    },\n    {\n      \"column\": \"Cleaned\",\n      \"properties\": {\n        \"dtype\": \"string\",\n        \"num_unique_values\": 5085,\n        \"samples\": [\n          \"upload mine facebook\",\n          \"sent price mean ltgt g\"\n        ],\n        \"semantic_type\": \"\",\n        \"description\": \"\"\n      }\n    }\n  ]\n}"
            }
          },
          "metadata": {},
          "execution_count": 4
        }
      ]
    },
    {
      "cell_type": "code",
      "source": [
        "label_mapping = {'ham': 0, 'spam': 1}\n",
        "df['Labels'] = df['Category'].map(label_mapping)"
      ],
      "metadata": {
        "id": "hRnOJrFFXGgy"
      },
      "execution_count": 5,
      "outputs": []
    },
    {
      "cell_type": "markdown",
      "source": [
        "Divido il dataset in train e test."
      ],
      "metadata": {
        "id": "sBxwQK3fa3fL"
      }
    },
    {
      "cell_type": "code",
      "source": [
        "X_train, X_test, y_train, y_test = train_test_split(df['Cleaned'], df['Labels'], test_size=0.2, random_state=100)"
      ],
      "metadata": {
        "id": "vWg4H_Fsa242"
      },
      "execution_count": 6,
      "outputs": []
    },
    {
      "cell_type": "markdown",
      "source": [
        "Definisco la funzione *evaluation()*."
      ],
      "metadata": {
        "id": "5_Jm6t2LZ4td"
      }
    },
    {
      "cell_type": "code",
      "source": [
        "def evaluation(predicted_labels, true_labels):\n",
        "  accuracy = accuracy_score(true_labels, predicted_labels)\n",
        "  precision = precision_score(true_labels, predicted_labels, average='weighted')\n",
        "  recall = recall_score(true_labels, predicted_labels, average='weighted')\n",
        "  f1 = f1_score(true_labels, predicted_labels, average='weighted')\n",
        "\n",
        "  print(\"Accuracy:\", accuracy)\n",
        "  print(\"Precision:\", precision)\n",
        "  print(\"Recall:\", recall)\n",
        "  print(\"F1 Score:\", f1)"
      ],
      "metadata": {
        "id": "0Ib0khOdaJ_s"
      },
      "execution_count": 7,
      "outputs": []
    },
    {
      "cell_type": "markdown",
      "source": [
        "Definisco il TF-IDF Vectorizer per convertire il dataset in una matrice con delle features (le parole)."
      ],
      "metadata": {
        "id": "mgaLhSgSRsYk"
      }
    },
    {
      "cell_type": "code",
      "source": [
        "from sklearn.feature_extraction.text import TfidfVectorizer\n",
        "\n",
        "# processo il train set\n",
        "tfidf_vectorizer = TfidfVectorizer(stop_words='english')\n",
        "input_tfidf_train = tfidf_vectorizer.fit_transform(X_train)\n",
        "print(input_tfidf_train.shape)\n",
        "\n",
        "# processo il test set\n",
        "input_tfidf_test = tfidf_vectorizer.transform(X_test)\n",
        "print(input_tfidf_test.shape)"
      ],
      "metadata": {
        "colab": {
          "base_uri": "https://localhost:8080/"
        },
        "outputId": "ff8c2d0f-ca61-4075-c82b-38e2e831c856",
        "id": "geax6Mr6SRCI"
      },
      "execution_count": null,
      "outputs": [
        {
          "output_type": "stream",
          "name": "stdout",
          "text": [
            "(4457, 6190)\n",
            "  (0, 5511)\t0.4530820826162595\n",
            "  (0, 5144)\t0.475205450149337\n",
            "  (0, 5012)\t0.25412815947077416\n",
            "  (0, 3635)\t0.475205450149337\n",
            "  (0, 3250)\t0.3256571660032935\n",
            "  (0, 2484)\t0.4152619360157454\n"
          ]
        }
      ]
    },
    {
      "cell_type": "markdown",
      "source": [
        "Definisco il modello di HugginFace per ottenere gli embeddings dal dataset."
      ],
      "metadata": {
        "id": "2C2ENUvhSVuE"
      }
    },
    {
      "cell_type": "code",
      "source": [
        "!pip install sentence_transformers\n",
        "from sentence_transformers import SentenceTransformer, util\n",
        "model = SentenceTransformer('multi-qa-MiniLM-L6-cos-v1')"
      ],
      "metadata": {
        "id": "j3r2OANNSj9m"
      },
      "execution_count": null,
      "outputs": []
    },
    {
      "cell_type": "code",
      "source": [
        "embeddings_train = model.encode(X_train.tolist())\n",
        "embeddings_test = model.encode(X_test.tolist())"
      ],
      "metadata": {
        "id": "J7pNSufWSj9x"
      },
      "execution_count": null,
      "outputs": []
    },
    {
      "cell_type": "markdown",
      "source": [
        "---"
      ],
      "metadata": {
        "id": "M7SdTPjmSszt"
      }
    },
    {
      "cell_type": "markdown",
      "source": [
        "## 1. SVM"
      ],
      "metadata": {
        "id": "KV_J2pCcZLhj"
      }
    },
    {
      "cell_type": "markdown",
      "source": [
        "### **a. Linear**"
      ],
      "metadata": {
        "id": "jWthjnetjONU"
      }
    },
    {
      "cell_type": "code",
      "source": [
        "from sklearn.svm import SVC\n",
        "svm = SVC(kernel='linear')"
      ],
      "metadata": {
        "id": "0qpUee2Reqvl"
      },
      "execution_count": 72,
      "outputs": []
    },
    {
      "cell_type": "markdown",
      "source": [
        "### 1.a.1 TF-IDF Vectorizer"
      ],
      "metadata": {
        "id": "njWtGsj7ZdO3"
      }
    },
    {
      "cell_type": "code",
      "source": [
        "svm.fit(input_tfidf_train, y_train)\n",
        "y_pred = svm.predict(input_tfidf_test)"
      ],
      "metadata": {
        "id": "LT2ql9g5Z33B"
      },
      "execution_count": 73,
      "outputs": []
    },
    {
      "cell_type": "code",
      "source": [
        "evaluation(y_pred, y_test)"
      ],
      "metadata": {
        "colab": {
          "base_uri": "https://localhost:8080/"
        },
        "id": "SA2uoj44e2QE",
        "outputId": "18252e9a-844c-4aeb-c8e9-f0631832a414"
      },
      "execution_count": 74,
      "outputs": [
        {
          "output_type": "stream",
          "name": "stdout",
          "text": [
            "Accuracy: 0.9811659192825112\n",
            "Precision: 0.9809731960170872\n",
            "Recall: 0.9811659192825112\n",
            "F1 Score: 0.9810272529271684\n"
          ]
        }
      ]
    },
    {
      "cell_type": "markdown",
      "source": [
        "### 1.a.2 *HugginFace* Embeddings"
      ],
      "metadata": {
        "id": "rel3Z25KZiN4"
      }
    },
    {
      "cell_type": "code",
      "source": [
        "svm.fit(embeddings_train, y_train)\n",
        "y_pred = svm.predict(embeddings_test)"
      ],
      "metadata": {
        "id": "zH1HhKYVOsxk"
      },
      "execution_count": 75,
      "outputs": []
    },
    {
      "cell_type": "code",
      "source": [
        "evaluation(y_pred, y_test)"
      ],
      "metadata": {
        "colab": {
          "base_uri": "https://localhost:8080/"
        },
        "outputId": "65cf1ba9-18dc-4286-a061-41d1d3122332",
        "id": "I8XoBi1hOsxl"
      },
      "execution_count": 76,
      "outputs": [
        {
          "output_type": "stream",
          "name": "stdout",
          "text": [
            "Accuracy: 0.9766816143497757\n",
            "Precision: 0.976440158198864\n",
            "Recall: 0.9766816143497757\n",
            "F1 Score: 0.9761061488234982\n"
          ]
        }
      ]
    },
    {
      "cell_type": "markdown",
      "source": [
        "### **b. RBF**"
      ],
      "metadata": {
        "id": "bXBVExE0jagc"
      }
    },
    {
      "cell_type": "code",
      "source": [
        "from sklearn.svm import SVC\n",
        "svm = SVC(kernel='rbf')"
      ],
      "metadata": {
        "id": "rrQL4mnQjago"
      },
      "execution_count": 77,
      "outputs": []
    },
    {
      "cell_type": "markdown",
      "source": [
        "### 1.b.1 TF-IDF Vectorizer"
      ],
      "metadata": {
        "id": "rado8L5yjago"
      }
    },
    {
      "cell_type": "code",
      "source": [
        "svm.fit(input_tfidf_train, y_train)\n",
        "y_pred = svm.predict(input_tfidf_test)"
      ],
      "metadata": {
        "id": "Y2gNI-Gvjagp"
      },
      "execution_count": 78,
      "outputs": []
    },
    {
      "cell_type": "code",
      "source": [
        "evaluation(y_pred, y_test)"
      ],
      "metadata": {
        "colab": {
          "base_uri": "https://localhost:8080/"
        },
        "outputId": "b2532b6f-329d-4b9f-e60e-0e492041c295",
        "id": "BbT9FPAOjagp"
      },
      "execution_count": 79,
      "outputs": [
        {
          "output_type": "stream",
          "name": "stdout",
          "text": [
            "Accuracy: 0.9766816143497757\n",
            "Precision: 0.9763229663443185\n",
            "Recall: 0.9766816143497757\n",
            "F1 Score: 0.9763309930233398\n"
          ]
        }
      ]
    },
    {
      "cell_type": "markdown",
      "source": [
        "### 1.b.2 *HugginFace* Embeddings"
      ],
      "metadata": {
        "id": "yyKMz6bFjagp"
      }
    },
    {
      "cell_type": "code",
      "source": [
        "svm.fit(embeddings_train, y_train)\n",
        "y_pred = svm.predict(embeddings_test)"
      ],
      "metadata": {
        "id": "756T7yUDjagp"
      },
      "execution_count": 80,
      "outputs": []
    },
    {
      "cell_type": "code",
      "source": [
        "evaluation(y_pred, y_test)"
      ],
      "metadata": {
        "colab": {
          "base_uri": "https://localhost:8080/"
        },
        "outputId": "370ee076-b040-4e8e-9646-2a9e496e7482",
        "id": "7RgZRMCWjagp"
      },
      "execution_count": 81,
      "outputs": [
        {
          "output_type": "stream",
          "name": "stdout",
          "text": [
            "Accuracy: 0.9838565022421525\n",
            "Precision: 0.9838722686910532\n",
            "Recall: 0.9838565022421525\n",
            "F1 Score: 0.9835108658157986\n"
          ]
        }
      ]
    },
    {
      "cell_type": "markdown",
      "source": [
        "###**c. Polynomial**"
      ],
      "metadata": {
        "id": "vUunCwKGjbKV"
      }
    },
    {
      "cell_type": "code",
      "source": [
        "from sklearn.svm import SVC\n",
        "svm = SVC(kernel='poly', degree=3)\n",
        "# 3 perché 1 non ha senso e RBF è già in 2 dimensioni"
      ],
      "metadata": {
        "id": "OOFMl8N4jbKW"
      },
      "execution_count": 82,
      "outputs": []
    },
    {
      "cell_type": "markdown",
      "source": [
        "### 1.c.1 TF-IDF Vectorizer"
      ],
      "metadata": {
        "id": "rzWLyWbBjbKW"
      }
    },
    {
      "cell_type": "code",
      "source": [
        "svm.fit(input_tfidf_train, y_train)\n",
        "y_pred = svm.predict(input_tfidf_test)"
      ],
      "metadata": {
        "id": "3d2M3kXUjbKW"
      },
      "execution_count": 83,
      "outputs": []
    },
    {
      "cell_type": "code",
      "source": [
        "evaluation(y_pred, y_test)"
      ],
      "metadata": {
        "colab": {
          "base_uri": "https://localhost:8080/"
        },
        "outputId": "dfd71aee-e73f-46c3-b211-716b939602ba",
        "id": "zOH_OE6qjbKW"
      },
      "execution_count": 84,
      "outputs": [
        {
          "output_type": "stream",
          "name": "stdout",
          "text": [
            "Accuracy: 0.9641255605381166\n",
            "Precision: 0.9639193299788033\n",
            "Recall: 0.9641255605381166\n",
            "F1 Score: 0.9623609515037331\n"
          ]
        }
      ]
    },
    {
      "cell_type": "markdown",
      "source": [
        "### 1.c.2 *HugginFace* Embeddings"
      ],
      "metadata": {
        "id": "TYoup3hjjbKX"
      }
    },
    {
      "cell_type": "code",
      "source": [
        "svm.fit(embeddings_train, y_train)\n",
        "y_pred = svm.predict(embeddings_test)"
      ],
      "metadata": {
        "id": "UPc73kLTjbKX"
      },
      "execution_count": 85,
      "outputs": []
    },
    {
      "cell_type": "code",
      "source": [
        "evaluation(y_pred, y_test)"
      ],
      "metadata": {
        "colab": {
          "base_uri": "https://localhost:8080/"
        },
        "outputId": "1b945cd4-55da-44be-8fca-ca9aa8890cb4",
        "id": "XkuofJkRjbKX"
      },
      "execution_count": 86,
      "outputs": [
        {
          "output_type": "stream",
          "name": "stdout",
          "text": [
            "Accuracy: 0.9838565022421525\n",
            "Precision: 0.9839948747620156\n",
            "Recall: 0.9838565022421525\n",
            "F1 Score: 0.9834581030316525\n"
          ]
        }
      ]
    },
    {
      "cell_type": "markdown",
      "source": [
        "### **d. Sigmoid**"
      ],
      "metadata": {
        "id": "qTfsRQQYjbdD"
      }
    },
    {
      "cell_type": "code",
      "source": [
        "from sklearn.svm import SVC\n",
        "svm = SVC(kernel='sigmoid')"
      ],
      "metadata": {
        "id": "pKxVJn-PjbdE"
      },
      "execution_count": 87,
      "outputs": []
    },
    {
      "cell_type": "markdown",
      "source": [
        "### 1.d.1 TF-IDF Vectorizer"
      ],
      "metadata": {
        "id": "5xMu3PwOjbdE"
      }
    },
    {
      "cell_type": "code",
      "source": [
        "svm.fit(input_tfidf_train, y_train)\n",
        "y_pred = svm.predict(input_tfidf_test)"
      ],
      "metadata": {
        "id": "WQ-2kPfXjbdE"
      },
      "execution_count": 88,
      "outputs": []
    },
    {
      "cell_type": "code",
      "source": [
        "evaluation(y_pred, y_test)"
      ],
      "metadata": {
        "colab": {
          "base_uri": "https://localhost:8080/"
        },
        "outputId": "9d4a8280-a61c-47c0-c9f7-ad88c28c4b0f",
        "id": "XK19pMnEjbdE"
      },
      "execution_count": 89,
      "outputs": [
        {
          "output_type": "stream",
          "name": "stdout",
          "text": [
            "Accuracy: 0.979372197309417\n",
            "Precision: 0.9791525031727287\n",
            "Recall: 0.979372197309417\n",
            "F1 Score: 0.9792203246345177\n"
          ]
        }
      ]
    },
    {
      "cell_type": "markdown",
      "source": [
        "### 1.d.2 *HugginFace* Embeddings"
      ],
      "metadata": {
        "id": "Y-dzQC10jbdF"
      }
    },
    {
      "cell_type": "code",
      "source": [
        "svm.fit(embeddings_train, y_train)\n",
        "y_pred = svm.predict(embeddings_test)"
      ],
      "metadata": {
        "id": "VfhQWvtCjbdF"
      },
      "execution_count": 90,
      "outputs": []
    },
    {
      "cell_type": "code",
      "source": [
        "evaluation(y_pred, y_test)"
      ],
      "metadata": {
        "colab": {
          "base_uri": "https://localhost:8080/"
        },
        "outputId": "d9afe6b5-6968-4e7c-cb9b-2d4d8095594c",
        "id": "fwE5yS-sjbdF"
      },
      "execution_count": 91,
      "outputs": [
        {
          "output_type": "stream",
          "name": "stdout",
          "text": [
            "Accuracy: 0.9730941704035875\n",
            "Precision: 0.9726073030108904\n",
            "Recall: 0.9730941704035875\n",
            "F1 Score: 0.9726045781091706\n"
          ]
        }
      ]
    },
    {
      "cell_type": "markdown",
      "source": [
        "## 2. Decision Tree Classifier"
      ],
      "metadata": {
        "id": "s7CGpa5PZXAa"
      }
    },
    {
      "cell_type": "code",
      "source": [
        "from sklearn.tree import DecisionTreeClassifier\n",
        "dtc = DecisionTreeClassifier()"
      ],
      "metadata": {
        "id": "snFOLyffOYOu"
      },
      "execution_count": 92,
      "outputs": []
    },
    {
      "cell_type": "markdown",
      "source": [
        "### 2.1 TF-IDF Vectorizer"
      ],
      "metadata": {
        "id": "rJKjfWl0Rbwh"
      }
    },
    {
      "cell_type": "code",
      "source": [
        "dtc.fit(input_tfidf_train, y_train)\n",
        "y_pred = dtc.predict(input_tfidf_test)"
      ],
      "metadata": {
        "id": "k8nKEMsBQ2nt"
      },
      "execution_count": 93,
      "outputs": []
    },
    {
      "cell_type": "code",
      "source": [
        "evaluation(y_pred, y_test)"
      ],
      "metadata": {
        "colab": {
          "base_uri": "https://localhost:8080/"
        },
        "id": "VT58rm46RCyU",
        "outputId": "c8b00ac5-8464-4979-f9ff-a3be6b6fe645"
      },
      "execution_count": 94,
      "outputs": [
        {
          "output_type": "stream",
          "name": "stdout",
          "text": [
            "Accuracy: 0.9587443946188341\n",
            "Precision: 0.9601753794169909\n",
            "Recall: 0.9587443946188341\n",
            "F1 Score: 0.9593158389806852\n"
          ]
        }
      ]
    },
    {
      "cell_type": "markdown",
      "source": [
        "### 2.2 *HugginFace* Embeddings"
      ],
      "metadata": {
        "id": "DUCWO68aReM7"
      }
    },
    {
      "cell_type": "code",
      "source": [
        "dtc.fit(embeddings_train, y_train)\n",
        "y_pred = dtc.predict(embeddings_test)"
      ],
      "metadata": {
        "id": "4ZSAfZBTLyxV"
      },
      "execution_count": 95,
      "outputs": []
    },
    {
      "cell_type": "code",
      "source": [
        "evaluation(y_pred, y_test)"
      ],
      "metadata": {
        "colab": {
          "base_uri": "https://localhost:8080/"
        },
        "id": "njcyn5O6RLQx",
        "outputId": "ce097e2e-7cad-4f5f-8432-05104d7bfc01"
      },
      "execution_count": 96,
      "outputs": [
        {
          "output_type": "stream",
          "name": "stdout",
          "text": [
            "Accuracy: 0.9174887892376682\n",
            "Precision: 0.9246244161413846\n",
            "Recall: 0.9174887892376682\n",
            "F1 Score: 0.9202792125466626\n"
          ]
        }
      ]
    },
    {
      "cell_type": "markdown",
      "source": [
        "## 3. Logistic Regression"
      ],
      "metadata": {
        "id": "8godO-9lZZqd"
      }
    },
    {
      "cell_type": "code",
      "source": [
        "from sklearn.linear_model import LogisticRegression\n",
        "log_reg = LogisticRegression()"
      ],
      "metadata": {
        "id": "TdgXK-SbbILH"
      },
      "execution_count": 97,
      "outputs": []
    },
    {
      "cell_type": "markdown",
      "source": [
        "### 3.1 TF-IDF Vectorizer"
      ],
      "metadata": {
        "id": "Wz6dydHnUE9n"
      }
    },
    {
      "cell_type": "code",
      "source": [
        "log_reg.fit(input_tfidf_train, y_train)\n",
        "y_pred = log_reg.predict(input_tfidf_test)"
      ],
      "metadata": {
        "id": "QSC22n5fbJX9"
      },
      "execution_count": 98,
      "outputs": []
    },
    {
      "cell_type": "code",
      "source": [
        "evaluation(y_pred, y_test)"
      ],
      "metadata": {
        "colab": {
          "base_uri": "https://localhost:8080/"
        },
        "id": "vbsYsH8EbLhd",
        "outputId": "0bdaa5e7-c00a-4dd1-c212-8e8107127d7f"
      },
      "execution_count": 99,
      "outputs": [
        {
          "output_type": "stream",
          "name": "stdout",
          "text": [
            "Accuracy: 0.9614349775784753\n",
            "Precision: 0.9604001263525085\n",
            "Recall: 0.9614349775784753\n",
            "F1 Score: 0.9601586225264362\n"
          ]
        }
      ]
    },
    {
      "cell_type": "markdown",
      "source": [
        "### 3.2 *HugginFace* Embeddings"
      ],
      "metadata": {
        "id": "vs6FJKXhUJ4j"
      }
    },
    {
      "cell_type": "code",
      "source": [
        "log_reg.fit(embeddings_train, y_train)\n",
        "y_pred = log_reg.predict(embeddings_test)"
      ],
      "metadata": {
        "id": "Y-AOOARobKGz"
      },
      "execution_count": 100,
      "outputs": []
    },
    {
      "cell_type": "code",
      "source": [
        "evaluation(y_pred, y_test)"
      ],
      "metadata": {
        "colab": {
          "base_uri": "https://localhost:8080/"
        },
        "id": "itjodgbwbMF6",
        "outputId": "27df6503-8410-45bf-d03e-27401fa87de3"
      },
      "execution_count": 101,
      "outputs": [
        {
          "output_type": "stream",
          "name": "stdout",
          "text": [
            "Accuracy: 0.9748878923766816\n",
            "Precision: 0.9746387478722345\n",
            "Recall: 0.9748878923766816\n",
            "F1 Score: 0.9741846840761177\n"
          ]
        }
      ]
    },
    {
      "cell_type": "markdown",
      "source": [
        "## 4. KNN"
      ],
      "metadata": {
        "id": "42w1xdZpUPm8"
      }
    },
    {
      "cell_type": "markdown",
      "source": [
        "### a. `K = 5`"
      ],
      "metadata": {
        "id": "8lSi-dgjhil1"
      }
    },
    {
      "cell_type": "code",
      "source": [
        "from sklearn.neighbors import KNeighborsClassifier\n",
        "knn = KNeighborsClassifier()"
      ],
      "metadata": {
        "id": "V7f7xs3wb0GE"
      },
      "execution_count": 102,
      "outputs": []
    },
    {
      "cell_type": "markdown",
      "source": [
        "### 4.a.1 TF-IDF Vectorizer"
      ],
      "metadata": {
        "id": "UedGgP0ZUPna"
      }
    },
    {
      "cell_type": "code",
      "source": [
        "knn.fit(input_tfidf_train, y_train)\n",
        "y_pred = knn.predict(input_tfidf_test)"
      ],
      "metadata": {
        "id": "IdjRNAfmb0zZ"
      },
      "execution_count": 103,
      "outputs": []
    },
    {
      "cell_type": "code",
      "source": [
        "evaluation(y_pred, y_test)"
      ],
      "metadata": {
        "colab": {
          "base_uri": "https://localhost:8080/"
        },
        "id": "ZT67tRIGb1I-",
        "outputId": "a3250aa3-5dea-4f68-e526-25e070542c22"
      },
      "execution_count": 104,
      "outputs": [
        {
          "output_type": "stream",
          "name": "stdout",
          "text": [
            "Accuracy: 0.9237668161434978\n",
            "Precision: 0.9261900514892635\n",
            "Recall: 0.9237668161434978\n",
            "F1 Score: 0.9112555820914525\n"
          ]
        }
      ]
    },
    {
      "cell_type": "markdown",
      "source": [
        "### 4.a.2 *HugginFace* Embeddings"
      ],
      "metadata": {
        "id": "YqS1D059UPnb"
      }
    },
    {
      "cell_type": "code",
      "source": [
        "knn.fit(embeddings_train, y_train)\n",
        "y_pred = knn.predict(embeddings_test)"
      ],
      "metadata": {
        "id": "b1qXgq7bb1yJ"
      },
      "execution_count": 105,
      "outputs": []
    },
    {
      "cell_type": "code",
      "source": [
        "evaluation(y_pred, y_test)"
      ],
      "metadata": {
        "colab": {
          "base_uri": "https://localhost:8080/"
        },
        "id": "rOsTHXR6b2EH",
        "outputId": "8e2e6ddf-8865-414e-8f3a-6ceee85f95a2"
      },
      "execution_count": 106,
      "outputs": [
        {
          "output_type": "stream",
          "name": "stdout",
          "text": [
            "Accuracy: 0.9739910313901345\n",
            "Precision: 0.9744366863052607\n",
            "Recall: 0.9739910313901345\n",
            "F1 Score: 0.9741748247561244\n"
          ]
        }
      ]
    },
    {
      "cell_type": "markdown",
      "source": [
        "### b. `K = 1`"
      ],
      "metadata": {
        "id": "ko9oatSQhzlI"
      }
    },
    {
      "cell_type": "code",
      "source": [
        "from sklearn.neighbors import KNeighborsClassifier\n",
        "onenn = KNeighborsClassifier(n_neighbors=1)"
      ],
      "metadata": {
        "id": "wsp40e3UhzlW"
      },
      "execution_count": 107,
      "outputs": []
    },
    {
      "cell_type": "markdown",
      "source": [
        "### 4.b.1 TF-IDF Vectorizer"
      ],
      "metadata": {
        "id": "k46d4kgNhzlX"
      }
    },
    {
      "cell_type": "code",
      "source": [
        "onenn.fit(input_tfidf_train, y_train)\n",
        "y_pred = onenn.predict(input_tfidf_test)"
      ],
      "metadata": {
        "id": "g4ZTE1HGhzlX"
      },
      "execution_count": 108,
      "outputs": []
    },
    {
      "cell_type": "code",
      "source": [
        "evaluation(y_pred, y_test)"
      ],
      "metadata": {
        "colab": {
          "base_uri": "https://localhost:8080/"
        },
        "outputId": "6002e5a3-0307-4fef-d721-0931522e0f0d",
        "id": "sdmERA3XhzlX"
      },
      "execution_count": 109,
      "outputs": [
        {
          "output_type": "stream",
          "name": "stdout",
          "text": [
            "Accuracy: 0.9623318385650225\n",
            "Precision: 0.9638982373573681\n",
            "Recall: 0.9623318385650225\n",
            "F1 Score: 0.9595927398695062\n"
          ]
        }
      ]
    },
    {
      "cell_type": "markdown",
      "source": [
        "### 4.b.2 *HugginFace* Embeddings"
      ],
      "metadata": {
        "id": "zfnsvR0EhzlX"
      }
    },
    {
      "cell_type": "code",
      "source": [
        "onenn.fit(embeddings_train, y_train)\n",
        "y_pred = onenn.predict(embeddings_test)"
      ],
      "metadata": {
        "id": "_Jk4FIvmhzlX"
      },
      "execution_count": 110,
      "outputs": []
    },
    {
      "cell_type": "code",
      "source": [
        "evaluation(y_pred, y_test)"
      ],
      "metadata": {
        "colab": {
          "base_uri": "https://localhost:8080/"
        },
        "outputId": "a04594c0-bd6a-4b19-a470-e7098fe02ca6",
        "id": "0qmn3wtYhzlX"
      },
      "execution_count": 111,
      "outputs": [
        {
          "output_type": "stream",
          "name": "stdout",
          "text": [
            "Accuracy: 0.9748878923766816\n",
            "Precision: 0.9758890092937687\n",
            "Recall: 0.9748878923766816\n",
            "F1 Score: 0.9752357280751998\n"
          ]
        }
      ]
    },
    {
      "cell_type": "markdown",
      "source": [
        "## 5. Naive Bayesian Classifier"
      ],
      "metadata": {
        "id": "iXXIp56wUQrY"
      }
    },
    {
      "cell_type": "code",
      "source": [
        "from sklearn.naive_bayes import GaussianNB\n",
        "nb = GaussianNB()"
      ],
      "metadata": {
        "id": "Asnwzqyoc8Bz"
      },
      "execution_count": 112,
      "outputs": []
    },
    {
      "cell_type": "markdown",
      "source": [
        "### 5.1 TF-IDF Vectorizer"
      ],
      "metadata": {
        "id": "Ah3ihZdSUQrm"
      }
    },
    {
      "cell_type": "code",
      "source": [
        "nb.fit(input_tfidf_train.toarray(), y_train)\n",
        "y_pred = nb.predict(input_tfidf_test.toarray())"
      ],
      "metadata": {
        "id": "jqfcVOO-c8ij"
      },
      "execution_count": 113,
      "outputs": []
    },
    {
      "cell_type": "code",
      "source": [
        "evaluation(y_pred, y_test)"
      ],
      "metadata": {
        "colab": {
          "base_uri": "https://localhost:8080/"
        },
        "id": "TNKsBAU5c8zf",
        "outputId": "13450b8e-e561-493a-e6b7-eec663b4e528"
      },
      "execution_count": 114,
      "outputs": [
        {
          "output_type": "stream",
          "name": "stdout",
          "text": [
            "Accuracy: 0.852017937219731\n",
            "Precision: 0.9081104890280469\n",
            "Recall: 0.852017937219731\n",
            "F1 Score: 0.8688228302292337\n"
          ]
        }
      ]
    },
    {
      "cell_type": "markdown",
      "source": [
        "### 5.2 *HugginFace* Embeddings"
      ],
      "metadata": {
        "id": "-_WvZ7gTUQrm"
      }
    },
    {
      "cell_type": "code",
      "source": [
        "nb.fit(embeddings_train, y_train)\n",
        "y_pred = nb.predict(embeddings_test)"
      ],
      "metadata": {
        "id": "B72SbWVxc-cJ"
      },
      "execution_count": 115,
      "outputs": []
    },
    {
      "cell_type": "code",
      "source": [
        "evaluation(y_pred, y_test)"
      ],
      "metadata": {
        "colab": {
          "base_uri": "https://localhost:8080/"
        },
        "id": "3sIR5Usec-y1",
        "outputId": "dedc533f-f71b-4353-b3eb-76d520a29794"
      },
      "execution_count": 116,
      "outputs": [
        {
          "output_type": "stream",
          "name": "stdout",
          "text": [
            "Accuracy: 0.9291479820627803\n",
            "Precision: 0.9448607019651665\n",
            "Recall: 0.9291479820627803\n",
            "F1 Score: 0.933695029243523\n"
          ]
        }
      ]
    },
    {
      "cell_type": "markdown",
      "source": [
        "## 6. AdaBoost"
      ],
      "metadata": {
        "id": "il6E9e42UXK0"
      }
    },
    {
      "cell_type": "code",
      "source": [
        "from sklearn.ensemble import AdaBoostClassifier\n",
        "adaboost = AdaBoostClassifier()"
      ],
      "metadata": {
        "id": "mX5eTDHSdGZD"
      },
      "execution_count": 117,
      "outputs": []
    },
    {
      "cell_type": "markdown",
      "source": [
        "### 6.1 TF-IDF Vectorizer"
      ],
      "metadata": {
        "id": "5EHc7ZyIUXLT"
      }
    },
    {
      "cell_type": "code",
      "source": [
        "adaboost.fit(input_tfidf_train, y_train)\n",
        "y_pred = adaboost.predict(input_tfidf_test)"
      ],
      "metadata": {
        "id": "j60dUIaZdHQf"
      },
      "execution_count": 118,
      "outputs": []
    },
    {
      "cell_type": "code",
      "source": [
        "evaluation(y_pred, y_test)"
      ],
      "metadata": {
        "colab": {
          "base_uri": "https://localhost:8080/"
        },
        "id": "nKE6aVbRdHjc",
        "outputId": "de10f5b3-191e-4f41-eff2-5a92eca2e3a9"
      },
      "execution_count": 119,
      "outputs": [
        {
          "output_type": "stream",
          "name": "stdout",
          "text": [
            "Accuracy: 0.9551569506726457\n",
            "Precision: 0.9546796004195107\n",
            "Recall: 0.9551569506726457\n",
            "F1 Score: 0.9548939182112518\n"
          ]
        }
      ]
    },
    {
      "cell_type": "markdown",
      "source": [
        "### 6.2 *HugginFace* Embeddings"
      ],
      "metadata": {
        "id": "dnUmw8NUUXLT"
      }
    },
    {
      "cell_type": "code",
      "source": [
        "adaboost.fit(embeddings_train, y_train)\n",
        "y_pred = adaboost.predict(embeddings_test)"
      ],
      "metadata": {
        "id": "yOHJ6kEwdIsc"
      },
      "execution_count": 120,
      "outputs": []
    },
    {
      "cell_type": "code",
      "source": [
        "evaluation(y_pred, y_test)"
      ],
      "metadata": {
        "colab": {
          "base_uri": "https://localhost:8080/"
        },
        "id": "6qcj1yWpdI-q",
        "outputId": "175576bd-fdeb-40ab-fe2c-7f1fadd9ce00"
      },
      "execution_count": 121,
      "outputs": [
        {
          "output_type": "stream",
          "name": "stdout",
          "text": [
            "Accuracy: 0.9533632286995516\n",
            "Precision: 0.9519914515083157\n",
            "Recall: 0.9533632286995516\n",
            "F1 Score: 0.9523647234678626\n"
          ]
        }
      ]
    },
    {
      "cell_type": "markdown",
      "source": [
        "## 7. Random Forest"
      ],
      "metadata": {
        "id": "Mc_g5wXVUX28"
      }
    },
    {
      "cell_type": "code",
      "source": [
        "from sklearn.ensemble import RandomForestClassifier\n",
        "random_forest = RandomForestClassifier()"
      ],
      "metadata": {
        "id": "AnjlVFU-dP-V"
      },
      "execution_count": 122,
      "outputs": []
    },
    {
      "cell_type": "markdown",
      "source": [
        "### 7.1 TF-IDF Vectorizer"
      ],
      "metadata": {
        "id": "aGJqSj93UX28"
      }
    },
    {
      "cell_type": "code",
      "source": [
        "random_forest.fit(input_tfidf_train, y_train)\n",
        "y_pred = random_forest.predict(input_tfidf_test)"
      ],
      "metadata": {
        "id": "z5NqnlMtdQql"
      },
      "execution_count": 123,
      "outputs": []
    },
    {
      "cell_type": "code",
      "source": [
        "evaluation(y_pred, y_test)"
      ],
      "metadata": {
        "colab": {
          "base_uri": "https://localhost:8080/"
        },
        "id": "uxmDqIUtdQ9F",
        "outputId": "7a62b48f-6fe6-4f86-948e-11f5bc61a11a"
      },
      "execution_count": 124,
      "outputs": [
        {
          "output_type": "stream",
          "name": "stdout",
          "text": [
            "Accuracy: 0.97847533632287\n",
            "Precision: 0.9789960943150585\n",
            "Recall: 0.97847533632287\n",
            "F1 Score: 0.9776504682590524\n"
          ]
        }
      ]
    },
    {
      "cell_type": "markdown",
      "source": [
        "### 7.2 *HugginFace* Embeddings"
      ],
      "metadata": {
        "id": "0gA3sHLFUX28"
      }
    },
    {
      "cell_type": "code",
      "source": [
        "random_forest.fit(embeddings_train, y_train)\n",
        "y_pred = random_forest.predict(embeddings_test)"
      ],
      "metadata": {
        "id": "MXukDuJTdSDo"
      },
      "execution_count": 125,
      "outputs": []
    },
    {
      "cell_type": "code",
      "source": [
        "evaluation(y_pred, y_test)"
      ],
      "metadata": {
        "colab": {
          "base_uri": "https://localhost:8080/"
        },
        "id": "jJEd41dCdSUT",
        "outputId": "a7e049be-b0ae-4e7f-9136-62b6303c78be"
      },
      "execution_count": 126,
      "outputs": [
        {
          "output_type": "stream",
          "name": "stdout",
          "text": [
            "Accuracy: 0.9605381165919282\n",
            "Precision: 0.9617830661989966\n",
            "Recall: 0.9605381165919282\n",
            "F1 Score: 0.957668584625197\n"
          ]
        }
      ]
    },
    {
      "cell_type": "markdown",
      "source": [
        "## Considerazioni"
      ],
      "metadata": {
        "id": "-OXUgz8Nfwwc"
      }
    },
    {
      "cell_type": "markdown",
      "source": [
        "Tutti i modelli testati mostrano un ottimo grado di precisione in tutte le metriche utilizzate per la valutazione; tra di essi spiccano **Support Vector Machine**, **Random Forest** e **K-Nearest Neighbor**. <br><br>\n",
        "Si noti che, all'aumentare del grado di complessità (cioè le dimensioni) di SVM, dimostrano di funzionare meglio i modelli allenati sugli embeddings di *HugginFace*.\n",
        "<br>\n",
        "Per quanto riguarda KNN, invece, le performance migliorano al diminuire del numero di vicini. Anche in questo caso, i modelli allenati con gli embeddings performano leggermente meglio di quelli addestrati tramite in vectorizer di TF-IDF.\n",
        "<br><br>\n",
        "Le prestazioni peggiori sembrano essere offerte da **Naive Bayes**, che comunque denota risultati accettabili nei benchmarks."
      ],
      "metadata": {
        "id": "_BcMM4Cjf0Gy"
      }
    }
  ]
}